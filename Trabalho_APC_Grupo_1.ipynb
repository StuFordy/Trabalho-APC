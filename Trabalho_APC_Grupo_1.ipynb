    {
      "cell_type": "markdown",
      "source": [
        "# Grupo 1 -  Análises sobre barris de petróleo não refinado\n",
        "**Membros:**\n",
        "- Luciano Medeiros Bogéa Viana (222015168)\n",
        "- Gustavo Santos Freitas (222015130)\n",
        "- Pedro Ramos Sousa Reis (222031680)\n",
        "- Gustavo Henrique Evangelista Santos Silva (222027463)\n",
        "- Felipe Matheus Ribeiro Lopes (221031274)\n",
        "- Felipe Ribeiro de Oliveira França (222014993)\n",
        "- João Victor Tavares de Souza (222015140)\n",
        "- Eduarda de Aro Passari (222031143)\n",
        "- Karla de Sousa Rodrigues (222031448)\n",
        "- Lucca Medeiros Silva (222031528)\n",
        "\n",
        "## Introdução\n",
        "Neste trabalho serão apresentadas cinco análises utilizando dados referentes ao fluxo (monetário e volumétrico/quantitativo) de barris de petróleo não refinado ao redor do mundo, tendo como base dados disponibilizados pelo Yahoo Finanças, durante o período de 01/07/2002 até 01/07/2022.\n",
        "\n",
        "As análises apresentadas neste trabalho serão enumeradas de 1 a 5, considerando que cada uma delas possui sua respectiva descrição, que contém uma explicação do código e dos valores resultantes mostrados no gráfico.\n",
        "\n",
        "## Base de dados utilizada\n",
        "\n",
        "|Nome|Descrição|Colunas|Linhas|\n",
        "|:---|:---|--:|--:|\n",
        "|[Crude Oil price data](https://www.kaggle.com/datasets/ramsesloaces/crude-oil-stock-data)|Base de dados original (link do Kaggle).|7|5030|\n",
        "|[Dados não tratados](https://raw.githubusercontent.com/StuFordy/APC/main/CrudeOil.csv)|Mesma base com dados do Kaggle, porém não tratados, utilizada para importação no código (link do GitHub).|7|5030|"
      ],
      "metadata": {
        "id": "EdmezPUw9duq"
      }
    },
    {
      "cell_type": "markdown",
      "source": [
        "## Preparação do ambiente de programação\n",
        "- Para a execução das análises é necessário importar as bibliotecas que serão utilizadas ao longo de todos os códigos. `REFERÊNCIA 1`\n",
        "\n",
        "- Ademais, é preciso ler a base de dados utilizando os dados não tratados que foram acessados por meio do link do GitHub mencionado anteriormente. `REFERÊNCIA 2`"
      ],
      "metadata": {
        "id": "JnodN1bCSBNP"
      }
    },
    {
      "cell_type": "code",
      "source": [
        "#REFERÊNCIA 1\n",
        "import numpy as np\n",
        "import pandas as pd\n",
        "import plotly.express as px\n",
        "\n",
        "#REFERÊNCIA 2\n",
        "Dataframeutilizado = pd.read_csv('https://raw.githubusercontent.com/StuFordy/APC/main/CrudeOil.csv')"
      ],
      "metadata": {
        "id": "pUWpUMikCse6"
      },
      "execution_count": null,
      "outputs": []
    },
    {
      "cell_type": "markdown",
      "source": [
        "## Análise 1 - Média de volume por ano"
      ],
      "metadata": {
        "id": "kW6tZND5UdoS"
      }
    },
    {
      "cell_type": "markdown",
      "source": [
        "## Análise 2 - Média de preço do barril de petróleo por ano"
      ],
      "metadata": {
        "id": "0zvr__npU-il"
      }
    },
    {
      "cell_type": "markdown",
      "source": [
        "## Análise 3 - Capital movimentado"
      ],
      "metadata": {
        "id": "aChRWj1TVLkV"
      }
    },
    {
      "cell_type": "markdown",
      "source": [
        "## Análise 4 - Variância de preços considerando a abertura e o fechamento da bolsa"
      ],
      "metadata": {
        "id": "mY1c5XlHV63G"
      }
    },
    {
      "cell_type": "markdown",
      "source": [
        "## Análise 5 - Variação de vendas de barris de petróleo por mês"
      ],
      "metadata": {
        "id": "1HyvWGzMVdL2"
      }
    }
  ]
}
